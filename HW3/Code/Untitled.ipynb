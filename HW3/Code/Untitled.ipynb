{
 "cells": [
  {
   "cell_type": "code",
   "execution_count": 35,
   "metadata": {},
   "outputs": [],
   "source": [
    "import csv\n",
    "import math\n",
    "\n",
    "import matplotlib.pyplot as plt\n",
    "import numpy as np\n",
    "\n",
    "\n",
    "def sigmoid(x):\n",
    "    return ((1 / (1 + math.exp(-x))))\n",
    "\n",
    "\n",
    "def compute_gradient(W, X, b, y0, weight):\n",
    "    y = compute_y(W, X, b)\n",
    "    sigmoid_new = y * (1 - y)\n",
    "    if weight == 0:\n",
    "        return X[0] * (y - y0) * sigmoid_new\n",
    "    elif weight == 1:\n",
    "        return X[1] * (y - y0) * sigmoid_new\n",
    "    else:\n",
    "        return (y - y0) * sigmoid_new\n",
    "\n",
    "\n",
    "def compute_y(X,W, b):\n",
    "    return sigmoid(np.dot(X, W) + b)\n",
    "\n",
    "\n",
    "def get_labels():\n",
    "    dataset = csv.reader(open(\"data.csv\"))\n",
    "    dataset_label = []\n",
    "\n",
    "    x0 = []\n",
    "    x1 = []\n",
    "    y0 = []\n",
    "    y1 = []\n",
    "\n",
    "    for col in dataset:\n",
    "        dataset_label.append(\n",
    "            [[float(col[0].replace(\"'\", \"\")), float(col[1].replace(\"'\", \"\"))], int(col[2].replace(\"'\", \"\"))])\n",
    "        if int(col[2].replace(\"'\", \"\")) == 0:\n",
    "            x0.append(float(col[0].replace(\"'\", \"\")))\n",
    "            y0.append(float(col[1].replace(\"'\", \"\")))\n",
    "        else:\n",
    "            x1.append(float(col[0].replace(\"'\", \"\")))\n",
    "            y1.append(float(col[1].replace(\"'\", \"\")))\n",
    "    return dataset_label\n",
    "\n",
    "\n",
    "def train(train_label):\n",
    "    n_epoch = 3000\n",
    "    Ir = 3 / len(train_label)  # learning_rate\n",
    "    gradient = [0, 0, 0]\n",
    "    W = []\n",
    "    b = np.random.normal(0, 1)\n",
    "    W.append(np.random.normal(0, 1))\n",
    "    W.append(np.random.normal(0, 1))\n",
    "\n",
    "    for i in range(0, n_epoch):\n",
    "        for w in range(0, 3):\n",
    "            gradient[w] = 0\n",
    "            for X in train_label:\n",
    "                gradient[w] += compute_gradient(W, X[0], b, X[1], w)\n",
    "        for w in range(0, 2):\n",
    "            W[w] -= Ir * gradient[w]\n",
    "            b -= Ir * gradient[2]\n",
    "    return [W, b]\n",
    "\n",
    "\n",
    "def model(W, b, test_label):\n",
    "    for X in test_label:\n",
    "        # Y = sigmoid(np.dot(W, X[0]) + b)\n",
    "        Y = compute_y(W, X[0], b)\n",
    "        if Y >= 0.5:\n",
    "            X[1] = 1\n",
    "        else:\n",
    "            X[1] = 0\n",
    "    return test_label"
   ]
  },
  {
   "cell_type": "code",
   "execution_count": 58,
   "metadata": {},
   "outputs": [
    {
     "data": {
      "image/png": "[encoded data removed]",
      "text/plain": [
       "<Figure size 432x288 with 1 Axes>"
      ]
     },
     "metadata": {
      "needs_background": "light"
     },
     "output_type": "display_data"
    }
   ],
   "source": [
    "x0 = []\n",
    "x1 = []\n",
    "y0 = []\n",
    "y1 = []\n",
    "\n",
    "x0_predicted = []\n",
    "x1_predicted = []\n",
    "y0_predicted = []\n",
    "y1_predicted = []\n",
    "\n",
    "dataset = get_labels()\n",
    "np.random.shuffle(dataset)\n",
    "\n",
    "train_value = []\n",
    "test_value = []\n",
    "\n",
    "# plot test data\n",
    "for i in range(0, len(dataset)):\n",
    "    # split\n",
    "    if i < np.round(0.8 * len(dataset)):\n",
    "        train_value.append([[dataset[i][0][0], dataset[i][0][1]], dataset[i][1]])\n",
    "    else:\n",
    "        test_value.append([[dataset[i][0][0], dataset[i][0][1]], dataset[i][1]])\n",
    "\n",
    "for i in range(0, len(test_value)):\n",
    "    if test_value[i][1] == 0:\n",
    "        x0.append(test_value[i][0][0])\n",
    "        y0.append(test_value[i][0][1])\n",
    "    else:\n",
    "        x1.append(test_value[i][0][0])\n",
    "        y1.append(test_value[i][0][1])\n",
    "\n",
    "plt.scatter(x0, y0, color=\"blue\")\n",
    "plt.scatter(x1, y1, color=\"red\")\n",
    "plt.show()\n",
    "# print(len(test_value))\n",
    "# print(len(dataset))"
   ]
  },
  {
   "cell_type": "code",
   "execution_count": 54,
   "metadata": {},
   "outputs": [],
   "source": [
    "W, b = train(train_value)\n",
    "predicted_label_test = model(W, b, test_value)"
   ]
  },
  {
   "cell_type": "code",
   "execution_count": 55,
   "metadata": {},
   "outputs": [
    {
     "data": {
      "text/plain": [
       "0"
      ]
     },
     "execution_count": 55,
     "metadata": {},
     "output_type": "execute_result"
    }
   ],
   "source": [
    "predicted_label_test[39][1]"
   ]
  },
  {
   "cell_type": "code",
   "execution_count": 61,
   "metadata": {},
   "outputs": [
    {
     "data": {
      "text/plain": [
       "[[[0.28170979323821427, 0.10049548182844054], 0],\n",
       " [[0.8780749266106397, 0.6816138355075214], 0],\n",
       " [[0.22193406557988657, 0.2989453287015452], 0],\n",
       " [[0.22541024547786076, 0.7849380433690659], 1],\n",
       " [[0.6949165854182061, 0.8419277337662759], 0],\n",
       " [[0.7282375641988699, 0.7308065987566297], 0],\n",
       " [[0.08728331335892733, 0.6805493275817509], 1],\n",
       " [[0.3153413559214563, 0.7784279200063761], 1],\n",
       " [[0.32933110177717606, 0.29559157938897973], 0],\n",
       " [[0.3140032229958884, 0.3815888389606202], 0],\n",
       " [[0.7551842867752836, 0.15664129087746886], 1],\n",
       " [[0.8311817494298697, 0.23545342150104853], 1],\n",
       " [[0.13835408856840875, 0.7064175800262155], 1],\n",
       " [[0.6954805463650215, 0.18979976882335275], 1],\n",
       " [[0.7280305504841853, 0.1798958747190546], 1],\n",
       " [[0.3137930264821252, 0.6660710826516161], 1],\n",
       " [[0.19638392528167795, 0.18035130809265137], 0],\n",
       " [[0.2352427771401009, 0.3257961157546632], 0],\n",
       " [[0.8051105680895025, 0.7034287530377589], 0],\n",
       " [[0.22884533528156484, 0.3195138543871016], 0],\n",
       " [[0.07679885437923806, 0.17343774714144478], 0],\n",
       " [[0.2224934993809251, 0.6663801425123639], 1],\n",
       " [[0.21472770931004082, 0.2902563833617881], 0],\n",
       " [[0.1232916302820092, 0.3064993846409459], 0],\n",
       " [[0.6675642868864939, 0.7403718297402507], 0],\n",
       " [[0.3528290378641403, 0.27607750764381994], 0],\n",
       " [[0.21721805860807156, 0.30048178018503496], 0],\n",
       " [[0.24852460707939847, 0.8204427196168337], 1],\n",
       " [[0.3582573720540393, 0.13345268482970296], 0],\n",
       " [[0.6974154572200029, 0.28078728861544455], 1],\n",
       " [[0.7247374635171583, 0.3231189565886477], 1],\n",
       " [[0.1801936985678091, 0.1451533551645201], 0],\n",
       " [[0.3204447122312244, 0.5611108258213329], 1],\n",
       " [[0.1786838338531739, 0.11825930823840625], 0],\n",
       " [[0.8390930898808227, 0.1982963137238194], 1],\n",
       " [[0.20902463509260166, 0.2720141007611026], 0],\n",
       " [[0.13254912475798478, 0.7031457523293119], 1],\n",
       " [[0.9562020031609444, 0.18177094019312917], 1],\n",
       " [[0.14889355672198362, 0.2823566323155778], 0],\n",
       " [[0.7948041181207198, 0.715550852904458], 0]]"
      ]
     },
     "execution_count": 61,
     "metadata": {},
     "output_type": "execute_result"
    }
   ],
   "source": [
    "test_value"
   ]
  },
  {
   "cell_type": "code",
   "execution_count": 62,
   "metadata": {},
   "outputs": [
    {
     "data": {
      "text/plain": [
       "[[[0.7245530337263707, 0.21785905228097163], 1],\n",
       " [[0.18698603965976052, 0.7483082837067193], 0],\n",
       " [[0.736573404822285, 0.3708645498799713], 1],\n",
       " [[0.8164710021334436, 0.23509377100146342], 1],\n",
       " [[0.09197300051201723, 0.608383086413194], 0],\n",
       " [[0.16655359137077302, 0.8220567281733527], 0],\n",
       " [[0.17491445908410203, 0.6766650601496775], 0],\n",
       " [[0.23426401746775438, 0.7641197182707707], 0],\n",
       " [[0.21149186772482365, 0.2067736107577487], 0],\n",
       " [[0.8103154998249935, 0.2009137689334668], 1],\n",
       " [[0.2224934993809251, 0.6663801425123639], 0],\n",
       " [[0.8096403084847065, 0.6617261048896805], 1],\n",
       " [[0.2352427771401009, 0.3257961157546632], 0],\n",
       " [[0.8767957578268822, 0.39853063752167955], 1],\n",
       " [[0.6524063790100186, 0.616868328293535], 0],\n",
       " [[0.7570611514338346, 0.7036219339265473], 1],\n",
       " [[0.7237799438056124, 0.17948715612592459], 1],\n",
       " [[0.7719881547653331, 0.6315855030922773], 1],\n",
       " [[0.2413189888271617, 0.3935477995202221], 0],\n",
       " [[0.3528290378641403, 0.27607750764381994], 0],\n",
       " [[0.37071908335777365, 0.3403754459665769], 0],\n",
       " [[0.8016838077129189, 0.19399470782663014], 1],\n",
       " [[0.6297805879161414, 0.8007794639506607], 0],\n",
       " [[0.25459237830329984, 0.21871894575629658], 0],\n",
       " [[0.24542114088520647, 0.799448009847333], 0],\n",
       " [[0.8348099399160288, 0.7607010952566158], 1],\n",
       " [[0.1630807723805387, 0.23795459239148767], 0],\n",
       " [[0.3455544936688522, 0.22227189335265204], 0],\n",
       " [[0.732211841489269, 0.3582635086566029], 1],\n",
       " [[0.6599653934743636, 0.7385121348957143], 0],\n",
       " [[0.155215508998636, 0.7382867401383673], 0],\n",
       " [[0.10868137723643001, 0.2661522806702567], 0],\n",
       " [[0.7207317121110088, 0.7486909498550467], 1],\n",
       " [[0.7948041181207198, 0.715550852904458], 1],\n",
       " [[0.22541024547786076, 0.7849380433690659], 0],\n",
       " [[0.8729210263807926, 0.26743332632805716], 1],\n",
       " [[0.7083907561476882, 0.2963132117436507], 1],\n",
       " [[0.20038296707094264, 0.652297441319644], 0],\n",
       " [[0.6765402590689931, 0.37179635744495637], 1],\n",
       " [[0.2398497643095418, 0.282422317519917], 0]]"
      ]
     },
     "execution_count": 62,
     "metadata": {},
     "output_type": "execute_result"
    }
   ],
   "source": [
    "predicted_label_test"
   ]
  },
  {
   "cell_type": "code",
   "execution_count": 10,
   "metadata": {},
   "outputs": [],
   "source": [
    "correct_pred = 0\n",
    "uncorrect_pred =0\n",
    "\n",
    "for i in range(0, 40):\n",
    "    if(test_value[i][1]== predicted_label_test[i][1]):\n",
    "        correct_pred += 1\n",
    "    else:\n",
    "        uncorrect_pred += "
   ]
  },
  {
   "cell_type": "code",
   "execution_count": 11,
   "metadata": {},
   "outputs": [
    {
     "name": "stdout",
     "output_type": "stream",
     "text": [
      "0\n",
      "1.0\n"
     ]
    }
   ],
   "source": [
    "print(uncorrect_pred)\n",
    "accuracy = (correct_pred) / len(test_value)\n",
    "print(accuracy)"
   ]
  },
  {
   "cell_type": "code",
   "execution_count": null,
   "metadata": {},
   "outputs": [],
   "source": []
  },
  {
   "cell_type": "code",
   "execution_count": 29,
   "metadata": {},
   "outputs": [
    {
     "data": {
      "text/plain": [
       "<matplotlib.collections.PathCollection at 0x1ab9ed327c8>"
      ]
     },
     "execution_count": 29,
     "metadata": {},
     "output_type": "execute_result"
    },
    {
     "data": {
      "image/png": "[encoded data removed]",
      "text/plain": [
       "<Figure size 432x288 with 1 Axes>"
      ]
     },
     "metadata": {
      "needs_background": "light"
     },
     "output_type": "display_data"
    }
   ],
   "source": [
    "for i in range(0, len(predicted_label_test)):\n",
    "    if predicted_label_test[i][1] == 0:\n",
    "        x0_predicted.append(predicted_label_test[i][0][0])\n",
    "        y0_predicted.append(predicted_label_test[i][0][1])\n",
    "    else:\n",
    "        x1_predicted.append(predicted_label_test[i][0][0])\n",
    "        y1_predicted.append(predicted_label_test[i][0][1])\n",
    "\n",
    "plt.scatter(x0_predicted, y0_predicted, color=\"blue\")\n",
    "plt.scatter(x1_predicted, y1_predicted, color=\"red\")\n",
    "#plt.show()"
   ]
  },
  {
   "cell_type": "code",
   "execution_count": 7,
   "metadata": {},
   "outputs": [
    {
     "name": "stdout",
     "output_type": "stream",
     "text": [
      "0\n",
      "1.0\n"
     ]
    }
   ],
   "source": []
  },
  {
   "cell_type": "code",
   "execution_count": null,
   "metadata": {},
   "outputs": [],
   "source": []
  },
  {
   "cell_type": "code",
   "execution_count": 223,
   "metadata": {},
   "outputs": [
    {
     "data": {
      "text/plain": [
       "1"
      ]
     },
     "execution_count": 223,
     "metadata": {},
     "output_type": "execute_result"
    }
   ],
   "source": [
    "test_value[0][1]"
   ]
  },
  {
   "cell_type": "code",
   "execution_count": 217,
   "metadata": {},
   "outputs": [
    {
     "data": {
      "text/plain": [
       "[[[0.28170979323821427, 0.10049548182844054], 1],\n",
       " [[0.24898826101308705, 0.2737746208691483], 0],\n",
       " [[0.8180303588739053, 0.3196442357926113], 1],\n",
       " [[0.2224934993809251, 0.6663801425123639], 0],\n",
       " [[0.7551284210899903, 0.8324400373264104], 0],\n",
       " [[0.45488332247489527, 0.8178702984534343], 0],\n",
       " [[0.6775397567049125, 0.2546446760056033], 1],\n",
       " [[0.6524063790100186, 0.616868328293535], 0],\n",
       " [[0.18547143334342475, 0.8395965706854618], 0],\n",
       " [[0.3473961172755702, 0.8579814329973301], 0],\n",
       " [[0.736573404822285, 0.3708645498799713], 1],\n",
       " [[0.32933110177717606, 0.29559157938897973], 0],\n",
       " [[0.42806026733053426, 0.2717600230947724], 1],\n",
       " [[0.3233892052644901, 0.8682924854622361], 0],\n",
       " [[0.6599653934743636, 0.7385121348957143], 0],\n",
       " [[0.6765402590689931, 0.37179635744495637], 1],\n",
       " [[0.18698603965976052, 0.7483082837067193], 0],\n",
       " [[0.308895977284141, 0.7015963718219937], 0],\n",
       " [[0.8187291925535344, 0.7665798508807077], 0],\n",
       " [[0.25169935823761397, 0.21301329387604506], 1],\n",
       " [[0.3301769381443319, 0.7877346140764049], 0],\n",
       " [[0.1700619011681342, 0.7258617291327828], 0],\n",
       " [[0.8262009402595853, 0.1940654121882601], 1],\n",
       " [[0.8051105680895025, 0.7034287530377589], 0],\n",
       " [[0.7033204078403245, 0.7661138407722748], 0],\n",
       " [[0.10868137723643001, 0.2661522806702567], 0],\n",
       " [[0.3140032229958884, 0.3815888389606202], 0],\n",
       " [[0.295143116585947, 0.8147224927149205], 0],\n",
       " [[0.35256404078861503, 0.2977983217470597], 1],\n",
       " [[0.16536776799844988, 0.769000768058168], 0],\n",
       " [[0.5067647664173129, 0.612970419677738], 0],\n",
       " [[0.7832643221837143, 0.24428501473637654], 1],\n",
       " [[0.23500336439956027, 0.8076013658689312], 0],\n",
       " [[0.22884533528156484, 0.3195138543871016], 0],\n",
       " [[0.7648853183525121, 0.8697856654437921], 0],\n",
       " [[0.22535173483512078, 0.8182632160770597], 0],\n",
       " [[0.590975795661919, 0.7892713872530823], 0],\n",
       " [[0.7409070842139637, 0.2360005959951253], 1],\n",
       " [[0.8597245117209544, 0.2435029006941432], 1],\n",
       " [[0.22193406557988657, 0.2989453287015452], 0]]"
      ]
     },
     "execution_count": 217,
     "metadata": {},
     "output_type": "execute_result"
    }
   ],
   "source": [
    "predicted_label_test"
   ]
  },
  {
   "cell_type": "code",
   "execution_count": 20,
   "metadata": {},
   "outputs": [
    {
     "data": {
      "text/plain": [
       "([0.033693001270829394, 0.24467591071134892], -0.11309053891812232)"
      ]
     },
     "execution_count": 20,
     "metadata": {},
     "output_type": "execute_result"
    }
   ],
   "source": []
  },
  {
   "cell_type": "code",
   "execution_count": 14,
   "metadata": {},
   "outputs": [
    {
     "data": {
      "text/plain": [
       "[[[0.7681198228598035, 0.8467211314541051], 1],\n",
       " [[0.6517786217700825, 0.7911959412045397], 1],\n",
       " [[0.8262009402595853, 0.1940654121882601], 0],\n",
       " [[0.18355828547393044, 0.3411122171446974], 0],\n",
       " [[0.8311817494298697, 0.23545342150104853], 0],\n",
       " [[0.2413189888271617, 0.3935477995202221], 0],\n",
       " [[0.2522363230684295, 0.7143168546662819], 1],\n",
       " [[0.1618895241444214, 0.2458276604270763], 0],\n",
       " [[0.6944119641695272, 0.7083055150781659], 1],\n",
       " [[0.7473478749620656, 0.559096117296864], 1],\n",
       " [[0.13835408856840875, 0.7064175800262155], 0],\n",
       " [[0.31170602063542563, 0.15721731578108838], 0],\n",
       " [[0.3010571751457801, 0.2250071989966574], 0],\n",
       " [[0.7948041181207198, 0.715550852904458], 1],\n",
       " [[0.7551842867752836, 0.15664129087746886], 0],\n",
       " [[0.16655359137077302, 0.8220567281733527], 1],\n",
       " [[0.7611240219997901, 0.7336651044440097], 1],\n",
       " [[0.721957247988941, 0.7454106169507512], 1],\n",
       " [[0.17491445908410203, 0.6766650601496775], 0],\n",
       " [[0.590975795661919, 0.7892713872530823], 1],\n",
       " [[0.1786838338531739, 0.11825930823840625], 0],\n",
       " [[0.7498112341926739, 0.2827041085773843], 0],\n",
       " [[0.6297805879161414, 0.8007794639506607], 1],\n",
       " [[0.08728331335892733, 0.6805493275817509], 0],\n",
       " [[0.7237799438056124, 0.17948715612592459], 0],\n",
       " [[0.3315007631968852, 0.6402014224342032], 1],\n",
       " [[0.7035852377572809, 0.1565530079194187], 0],\n",
       " [[0.7197237681019077, 0.7115451511111685], 1],\n",
       " [[0.8096403084847065, 0.6617261048896805], 1],\n",
       " [[0.7245530337263707, 0.21785905228097163], 0],\n",
       " [[0.7465098948496419, 0.2690474595716776], 0],\n",
       " [[0.6468374788605853, 0.2702160902509124], 0],\n",
       " [[0.3301769381443319, 0.7877346140764049], 1],\n",
       " [[0.7045646371051378, 0.1788329357135245], 0],\n",
       " [[0.8390930898808227, 0.1982963137238194], 0],\n",
       " [[0.7282375641988699, 0.7308065987566297], 1],\n",
       " [[0.3204447122312244, 0.5611108258213329], 0],\n",
       " [[0.7570611514338346, 0.7036219339265473], 1],\n",
       " [[0.1918960782296255, 0.6891803282954159], 0],\n",
       " [[0.7083907561476882, 0.2963132117436507], 0]]"
      ]
     },
     "execution_count": 14,
     "metadata": {},
     "output_type": "execute_result"
    }
   ],
   "source": []
  },
  {
   "cell_type": "code",
   "execution_count": 11,
   "metadata": {},
   "outputs": [
    {
     "data": {
      "text/plain": [
       "[0.40025346588983984, 0.03634862044345162]"
      ]
     },
     "execution_count": 11,
     "metadata": {},
     "output_type": "execute_result"
    }
   ],
   "source": [
    "W"
   ]
  },
  {
   "cell_type": "code",
   "execution_count": 12,
   "metadata": {},
   "outputs": [
    {
     "data": {
      "text/plain": [
       "-0.18956551347553618"
      ]
     },
     "execution_count": 12,
     "metadata": {},
     "output_type": "execute_result"
    }
   ],
   "source": [
    "b"
   ]
  },
  {
   "cell_type": "code",
   "execution_count": 8,
   "metadata": {},
   "outputs": [],
   "source": [
    "W, b = train(train_value)"
   ]
  },
  {
   "cell_type": "code",
   "execution_count": null,
   "metadata": {},
   "outputs": [],
   "source": [
    "predicted_label_test = test(W, b, test_value)"
   ]
  }
 ],
 "metadata": {
  "kernelspec": {
   "display_name": "Python 3",
   "language": "python",
   "name": "python3"
  },
  "language_info": {
   "codemirror_mode": {
    "name": "ipython",
    "version": 3
   },
   "file_extension": ".py",
   "mimetype": "text/x-python",
   "name": "python",
   "nbconvert_exporter": "python",
   "pygments_lexer": "ipython3",
   "version": "3.7.4"
  }
 },
 "nbformat": 4,
 "nbformat_minor": 2
}
